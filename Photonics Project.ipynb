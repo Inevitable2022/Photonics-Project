{
 "cells": [
  {
   "cell_type": "markdown",
   "id": "7c06f461",
   "metadata": {},
   "source": [
    "# Development of a simple model for optical parametric generation"
   ]
  },
  {
   "cell_type": "markdown",
   "id": "d75bb218",
   "metadata": {},
   "source": [
    "# Table  of Content\n",
    "* Abstract \n",
    "* Introduction\n",
    "* Theoretical Background\n",
    "* Experimental Setup\n",
    "* Discussions\n",
    "* Conclusion\n",
    "* References\n"
   ]
  },
  {
   "cell_type": "code",
   "execution_count": null,
   "id": "6f5c20c1",
   "metadata": {},
   "outputs": [],
   "source": []
  }
 ],
 "metadata": {
  "kernelspec": {
   "display_name": "Python 3 (ipykernel)",
   "language": "python",
   "name": "python3"
  },
  "language_info": {
   "codemirror_mode": {
    "name": "ipython",
    "version": 3
   },
   "file_extension": ".py",
   "mimetype": "text/x-python",
   "name": "python",
   "nbconvert_exporter": "python",
   "pygments_lexer": "ipython3",
   "version": "3.9.12"
  }
 },
 "nbformat": 4,
 "nbformat_minor": 5
}
